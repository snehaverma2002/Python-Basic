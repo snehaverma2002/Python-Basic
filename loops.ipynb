{
 "cells": [
  {
   "cell_type": "code",
   "execution_count": 1,
   "metadata": {},
   "outputs": [
    {
     "name": "stdout",
     "output_type": "stream",
     "text": [
      "11\n"
     ]
    }
   ],
   "source": [
    "name=\"Sneha Verma\"\n",
    "print(len(name))"
   ]
  },
  {
   "cell_type": "code",
   "execution_count": 2,
   "metadata": {},
   "outputs": [
    {
     "name": "stdout",
     "output_type": "stream",
     "text": [
      "S\n",
      "n\n",
      "e\n",
      "h\n",
      "a\n",
      " \n",
      "V\n",
      "e\n",
      "r\n",
      "m\n",
      "a\n"
     ]
    }
   ],
   "source": [
    "for char in name:\n",
    " print(char)"
   ]
  },
  {
   "cell_type": "code",
   "execution_count": 3,
   "metadata": {},
   "outputs": [
    {
     "name": "stdout",
     "output_type": "stream",
     "text": [
      "e\n",
      "a\n",
      "e\n",
      "a\n"
     ]
    }
   ],
   "source": [
    "for i in name:\n",
    "    if i in 'aeiouAEIOU':\n",
    "        print(i)"
   ]
  },
  {
   "cell_type": "code",
   "execution_count": 4,
   "metadata": {},
   "outputs": [
    {
     "name": "stdout",
     "output_type": "stream",
     "text": [
      "red\n",
      "yellow\n",
      "blue\n",
      "white\n"
     ]
    }
   ],
   "source": [
    "colors=['red','yellow','blue','white']\n",
    "for color in colors:\n",
    "    print(color)"
   ]
  },
  {
   "cell_type": "code",
   "execution_count": 5,
   "metadata": {},
   "outputs": [
    {
     "name": "stdout",
     "output_type": "stream",
     "text": [
      "red has 3 chars\n",
      "yellow has 6 chars\n",
      "blue has 4 chars\n",
      "white has 5 chars\n"
     ]
    }
   ],
   "source": [
    "for c in colors:\n",
    "    print(f'{c} has {len(c)} chars')"
   ]
  },
  {
   "cell_type": "markdown",
   "metadata": {},
   "source": [
    "wap to print if the length of a string is even or, from a list of string"
   ]
  },
  {
   "cell_type": "code",
   "execution_count": 6,
   "metadata": {},
   "outputs": [
    {
     "name": "stdout",
     "output_type": "stream",
     "text": [
      "Rose\n",
      "Lily\n",
      "Lotus\n",
      "Jasmine\n"
     ]
    }
   ],
   "source": [
    "flowers=['Rose','Lily','Lotus','Jasmine']\n",
    "for flower in flowers:\n",
    "  print(flower)"
   ]
  },
  {
   "cell_type": "code",
   "execution_count": 7,
   "metadata": {},
   "outputs": [
    {
     "name": "stdout",
     "output_type": "stream",
     "text": [
      "0 Rose\n",
      "1 Lily\n",
      "2 Lotus\n",
      "3 Jasmine\n"
     ]
    }
   ],
   "source": [
    "for i,flower in enumerate(flowers):\n",
    "    print(i,flower)\n"
   ]
  },
  {
   "cell_type": "code",
   "execution_count": 8,
   "metadata": {},
   "outputs": [
    {
     "name": "stdout",
     "output_type": "stream",
     "text": [
      "1+5**2 =36\n",
      "2+6**2 =64\n",
      "3+7**2 =100\n",
      "4+8**2 =144\n",
      "5+9**2 =196\n"
     ]
    }
   ],
   "source": [
    "x=[1,2,3,4,5]\n",
    "y=[5,6,7,8,9]\n",
    "#use a formula (a+b)**2 for each pair of value from both state\n",
    "for i,j in zip(x,y):\n",
    "    print(f'{i}+{j}**2 ={(i+j)**2}')"
   ]
  },
  {
   "attachments": {},
   "cell_type": "markdown",
   "metadata": {},
   "source": [
    "break and continue"
   ]
  },
  {
   "cell_type": "code",
   "execution_count": 9,
   "metadata": {},
   "outputs": [
    {
     "name": "stdout",
     "output_type": "stream",
     "text": [
      "2\n",
      "3\n",
      "4\n",
      "5\n",
      "6\n",
      "3\n",
      "7\n",
      "8\n",
      "9\n",
      "4\n",
      "5\n",
      "6\n",
      "8\n",
      "6\n",
      "5\n"
     ]
    }
   ],
   "source": [
    "a =[2,3,4,5,6,3,7,8,9,0,4,5,6,8,0,0,6,5,]\n",
    "for i in a:\n",
    "    if i==0: continue\n",
    "    print(i)"
   ]
  },
  {
   "cell_type": "code",
   "execution_count": 10,
   "metadata": {},
   "outputs": [
    {
     "name": "stdout",
     "output_type": "stream",
     "text": [
      "sahil\n",
      "sneha\n",
      "ankit\n"
     ]
    }
   ],
   "source": [
    "names=['sahil','sneha','ankit','','simran','riya']\n",
    "for name in names:\n",
    "    if len(name)==0: break\n",
    "    print(name)\n"
   ]
  },
  {
   "cell_type": "code",
   "execution_count": 11,
   "metadata": {},
   "outputs": [
    {
     "name": "stdout",
     "output_type": "stream",
     "text": [
      "sahil\n",
      "sneha\n",
      "ankit\n",
      "Error: Empty name found\n"
     ]
    }
   ],
   "source": [
    "name=['sahil','sneha','ankit','','simran','riya']\n",
    "for name in names:\n",
    "    if len(name)==0:\n",
    "        print('Error: Empty name found')\n",
    "        break\n",
    "    print(name)"
   ]
  }
 ],
 "metadata": {
  "kernelspec": {
   "display_name": "base",
   "language": "python",
   "name": "python3"
  },
  "language_info": {
   "codemirror_mode": {
    "name": "ipython",
    "version": 3
   },
   "file_extension": ".py",
   "mimetype": "text/x-python",
   "name": "python",
   "nbconvert_exporter": "python",
   "pygments_lexer": "ipython3",
   "version": "3.11.1"
  },
  "orig_nbformat": 4,
  "vscode": {
   "interpreter": {
    "hash": "966450a6fc5872085a69748d0ac74143c4b152c70eb4c7d1385e91c083075025"
   }
  }
 },
 "nbformat": 4,
 "nbformat_minor": 2
}
