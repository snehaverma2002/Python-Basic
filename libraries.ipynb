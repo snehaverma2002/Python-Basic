{
 "cells": [
  {
   "attachments": {},
   "cell_type": "markdown",
   "metadata": {},
   "source": [
    "# libraries or modules\n",
    "- `import lib_name`\n",
    "- `import lib_name as alias`\n",
    " eg -,```import radom as rd```\n",
    "\n",
    " - `from lib_name import fum1, fun2...` \n",
    "\n",
    "from random import randint, choice\n",
    "from lib_name import*\n",
    "from random import  * "
   ]
  },
  {
   "cell_type": "code",
   "execution_count": 2,
   "metadata": {},
   "outputs": [],
   "source": [
    "import math"
   ]
  },
  {
   "cell_type": "code",
   "execution_count": 4,
   "metadata": {},
   "outputs": [
    {
     "name": "stdout",
     "output_type": "stream",
     "text": [
      "3.605551275463989\n",
      "1307674368000\n",
      "2.0\n",
      "6.643856189774725\n",
      "3.141592653589793\n",
      "2.718281828459045\n",
      "6\n",
      "72\n"
     ]
    }
   ],
   "source": [
    "print(math.sqrt(13))\n",
    "print(math.factorial(15))\n",
    "print(math.log(100,10))\n",
    "print(math.log(100,2))\n",
    "print(math.pi)\n",
    "print(math.e)\n",
    "print(math.gcd(12,18,24))\n",
    "print(math.lcm(12,18,24))"
   ]
  },
  {
   "cell_type": "code",
   "execution_count": 5,
   "metadata": {},
   "outputs": [],
   "source": [
    "from random import random, randint, choice, shuffle"
   ]
  },
  {
   "cell_type": "code",
   "execution_count": 11,
   "metadata": {},
   "outputs": [
    {
     "name": "stdout",
     "output_type": "stream",
     "text": [
      "get a random value between 0 and 1: 0.38109786252222233\n",
      "get a random integer between 50 and 100: 81\n",
      "select a random item Jill\n",
      "shuffle a list ['Jamie', 'Jane', 'Jill', 'Jhon']\n"
     ]
    }
   ],
   "source": [
    "print('get a random value between 0 and 1:', random())\n",
    "print('get a random integer between 50 and 100:', randint(50,100))\n",
    "print('select a random item', choice(['Jhon', 'Jane', 'Jack', 'Jill', 'Jamie']))\n",
    "names = ['Jhon', 'Jane', 'Jill', 'Jamie']\n",
    "shuffle(names)\n",
    "print('shuffle a list', names)"
   ]
  },
  {
   "cell_type": "code",
   "execution_count": 12,
   "metadata": {},
   "outputs": [],
   "source": [
    "from datetime import datetime as dt "
   ]
  },
  {
   "cell_type": "code",
   "execution_count": 15,
   "metadata": {},
   "outputs": [
    {
     "name": "stdout",
     "output_type": "stream",
     "text": [
      "current time 2023-03-11 10:24:42.426619\n",
      "currnt date 2023-03-11\n",
      "current time <built-in method time of datetime.datetime object at 0x0000021AA9C39170>\n",
      "timestamp 1678510482.427621\n"
     ]
    }
   ],
   "source": [
    "print('current time', dt.now())\n",
    "print('currnt date', dt.now().date())\n",
    "print('current time', dt.now().time)\n",
    "print('timestamp', dt.now().timestamp())"
   ]
  },
  {
   "cell_type": "code",
   "execution_count": 16,
   "metadata": {},
   "outputs": [
    {
     "name": "stdout",
     "output_type": "stream",
     "text": [
      "formated date 11/03/2023\n"
     ]
    }
   ],
   "source": [
    "date = dt.strftime(dt.now(), '%d/%m/%Y')\n",
    "print('formated date', date)"
   ]
  },
  {
   "cell_type": "code",
   "execution_count": 17,
   "metadata": {},
   "outputs": [],
   "source": [
    "import os"
   ]
  },
  {
   "cell_type": "code",
   "execution_count": 19,
   "metadata": {},
   "outputs": [
    {
     "name": "stdout",
     "output_type": "stream",
     "text": [
      "current folder c:\\Users\\Sneha\\OneDrive\\Documents\\Python Basic\n"
     ]
    }
   ],
   "source": [
    "print('current folder',os.getcwd())# get a current "
   ]
  },
  {
   "cell_type": "code",
   "execution_count": 21,
   "metadata": {},
   "outputs": [
    {
     "name": "stdout",
     "output_type": "stream",
     "text": [
      "['.git', 'condition.ipynb', 'func.ipynb', 'func2.ipynb', 'game1.py', 'hello.py', 'image', 'level1.ipynb', 'libraries.ipynb', 'list.ipynb', 'loops.ipynb', 'music', 'nested.py', 'sounds', 'string.ipynb']\n"
     ]
    }
   ],
   "source": [
    "files = os.listdir()\n",
    "print(files)"
   ]
  },
  {
   "cell_type": "code",
   "execution_count": 34,
   "metadata": {},
   "outputs": [
    {
     "name": "stdout",
     "output_type": "stream",
     "text": [
      "['.849C9593-D756-4E56-8D6E-42412F2A707B', 'Desktop', 'desktop.ini', 'Documents', 'Getting started with OneDrive.pdf', 'norway.webp', 'Personal Vault.lnk', 'Pictures']\n",
      "8\n"
     ]
    }
   ],
   "source": [
    "files = os.listdir(r'c:\\Users\\Sneha\\OneDrive')\n",
    "print(files)\n",
    "print(len(files))"
   ]
  },
  {
   "cell_type": "code",
   "execution_count": 63,
   "metadata": {},
   "outputs": [
    {
     "ename": "SyntaxError",
     "evalue": "(unicode error) 'unicodeescape' codec can't decode bytes in position 2-3: truncated \\UXXXXXXXX escape (822362923.py, line 2)",
     "output_type": "error",
     "traceback": [
      "\u001b[1;36m  Cell \u001b[1;32mIn[63], line 2\u001b[1;36m\u001b[0m\n\u001b[1;33m    for path, folders, files in os.walk('C:\\Users\\Sneha\\Videos'):\u001b[0m\n\u001b[1;37m                                                               ^\u001b[0m\n\u001b[1;31mSyntaxError\u001b[0m\u001b[1;31m:\u001b[0m (unicode error) 'unicodeescape' codec can't decode bytes in position 2-3: truncated \\UXXXXXXXX escape\n"
     ]
    }
   ],
   "source": [
    "total_files = 0\n",
    "for path, folders, files in os.walk('C:\\Users\\Sneha\\Videos'):\n",
    "    print('=>', path)\n",
    "    print('📁', folders)\n",
    "    print('🗄️', files)\n",
    "    print('-'*15)\n",
    "    total_files += len(files)\n",
    "print('total files', total_files)"
   ]
  }
 ],
 "metadata": {
  "kernelspec": {
   "display_name": "base",
   "language": "python",
   "name": "python3"
  },
  "language_info": {
   "codemirror_mode": {
    "name": "ipython",
    "version": 3
   },
   "file_extension": ".py",
   "mimetype": "text/x-python",
   "name": "python",
   "nbconvert_exporter": "python",
   "pygments_lexer": "ipython3",
   "version": "3.10.8"
  },
  "orig_nbformat": 4,
  "vscode": {
   "interpreter": {
    "hash": "966450a6fc5872085a69748d0ac74143c4b152c70eb4c7d1385e91c083075025"
   }
  }
 },
 "nbformat": 4,
 "nbformat_minor": 2
}
