{
 "cells": [
  {
   "attachments": {},
   "cell_type": "markdown",
   "metadata": {},
   "source": [
    "Create a Strng and and print it."
   ]
  },
  {
   "cell_type": "code",
   "execution_count": 4,
   "metadata": {},
   "outputs": [
    {
     "name": "stdout",
     "output_type": "stream",
     "text": [
      "SnehaVerma\n"
     ]
    }
   ],
   "source": [
    "string = 'SnehaVerma'\n",
    "print(string)\n"
   ]
  },
  {
   "attachments": {},
   "cell_type": "markdown",
   "metadata": {},
   "source": [
    "Take a string input and print it"
   ]
  },
  {
   "cell_type": "code",
   "execution_count": 5,
   "metadata": {},
   "outputs": [
    {
     "name": "stdout",
     "output_type": "stream",
     "text": [
      "10\n"
     ]
    }
   ],
   "source": [
    "print(len(string))\n"
   ]
  },
  {
   "attachments": {},
   "cell_type": "markdown",
   "metadata": {},
   "source": [
    "Print a last word in string Python is great using slide"
   ]
  },
  {
   "cell_type": "code",
   "execution_count": 15,
   "metadata": {},
   "outputs": [
    {
     "name": "stdout",
     "output_type": "stream",
     "text": [
      "15\n"
     ]
    }
   ],
   "source": [
    "string = 'Python is great'\n",
    "print(len(string))"
   ]
  },
  {
   "cell_type": "code",
   "execution_count": 21,
   "metadata": {},
   "outputs": [
    {
     "data": {
      "text/plain": [
       "'great'"
      ]
     },
     "execution_count": 21,
     "metadata": {},
     "output_type": "execute_result"
    }
   ],
   "source": [
    "string[10:15]"
   ]
  },
  {
   "cell_type": "code",
   "execution_count": 42,
   "metadata": {},
   "outputs": [
    {
     "name": "stdout",
     "output_type": "stream",
     "text": [
      "Python is everywhere\n",
      "str= 20\n",
      "str[0]= P\n",
      "str[1]= y\n",
      "str[2]= t\n",
      "str[3]= h\n",
      "str[4]= o\n",
      "str[5]= n\n",
      "str[6]=  \n",
      "str[7]= i\n",
      "str[8]= s\n",
      "str[9]  \n",
      "str[10]= e\n",
      "str[11]= v\n",
      "str[12]= e\n",
      "str[12] e\n",
      "str[13]= r\n",
      "str[14]= y\n",
      "str[15] w\n",
      "str[16]= h\n",
      "str[17]= e\n",
      "str[18]= r\n",
      "str[19]= e\n"
     ]
    }
   ],
   "source": [
    "str = 'Python is everywhere'\n",
    "print(str)\n",
    "print('str=',len(str))\n",
    "print('str[0]=',str[0])\n",
    "print('str[1]=',str[1])\n",
    "print('str[2]=',str[2])\n",
    "print('str[3]=',str[3])\n",
    "print('str[4]=',str[4])\n",
    "print('str[5]=',str[5])\n",
    "print('str[6]=',str[6])\n",
    "print('str[7]=',str[7])\n",
    "print('str[8]=',str[8])\n",
    "print('str[9]',str[9])\n",
    "print('str[10]=',str[10])\n",
    "print('str[11]=',str[11])\n",
    "print('str[12]=',str[12])\n",
    "print('str[12]',str[12])\n",
    "print('str[13]=',str[13])\n",
    "print('str[14]=',str[14])\n",
    "print('str[15]',str[15])\n",
    "print('str[16]=',str[16])\n",
    "print('str[17]=',str[17])\n",
    "print('str[18]=',str[18])\n",
    "print('str[19]=',str[19])\n",
    "\n",
    "      "
   ]
  },
  {
   "attachments": {},
   "cell_type": "markdown",
   "metadata": {},
   "source": [
    "Print the hello word in reverse order"
   ]
  },
  {
   "cell_type": "code",
   "execution_count": 88,
   "metadata": {},
   "outputs": [
    {
     "name": "stdout",
     "output_type": "stream",
     "text": [
      "!droW olleH\n"
     ]
    }
   ],
   "source": [
    "str = 'Hello Word!'[::-1]\n",
    "print(str)"
   ]
  },
  {
   "attachments": {},
   "cell_type": "markdown",
   "metadata": {},
   "source": [
    "Convert the strng how are you in uppercase"
   ]
  },
  {
   "cell_type": "code",
   "execution_count": 100,
   "metadata": {},
   "outputs": [
    {
     "name": "stdout",
     "output_type": "stream",
     "text": [
      "HOW ARE YOU\n",
      "False\n",
      "True\n"
     ]
    }
   ],
   "source": [
    "str = 'How are you'\n",
    "y = 'sneha'\n",
    "print(str.upper())\n",
    "print(str.isupper())\n",
    "print(y.islower())"
   ]
  },
  {
   "attachments": {},
   "cell_type": "markdown",
   "metadata": {},
   "source": [
    "Convert the string in lower case"
   ]
  },
  {
   "cell_type": "code",
   "execution_count": 99,
   "metadata": {},
   "outputs": [
    {
     "name": "stdout",
     "output_type": "stream",
     "text": [
      "how is it going?\n",
      "False\n",
      "True\n"
     ]
    }
   ],
   "source": [
    "str = 'How is it going?'\n",
    "x = 'SNEHA'\n",
    "print(str.lower())\n",
    "print(str.islower())\n",
    "print(x.isupper())"
   ]
  },
  {
   "cell_type": "code",
   "execution_count": 108,
   "metadata": {},
   "outputs": [
    {
     "name": "stdout",
     "output_type": "stream",
     "text": [
      "  ('Python', 'Easy', 'to', 'learn')\n"
     ]
    }
   ],
   "source": [
    "word =('Python', 'Easy', 'to','learn')\n",
    "print('','',(word))"
   ]
  },
  {
   "attachments": {},
   "cell_type": "markdown",
   "metadata": {},
   "source": [
    "Using a single string to print multiple line"
   ]
  },
  {
   "cell_type": "code",
   "execution_count": 112,
   "metadata": {},
   "outputs": [
    {
     "name": "stdout",
     "output_type": "stream",
     "text": [
      "Sneha verma \n",
      " Sneha verma \n",
      " Sneha verma \n",
      " Sneha verma\n"
     ]
    }
   ],
   "source": [
    "str='Sneha verma'\n",
    "print(str,'\\n',str,'\\n',str,'\\n',str)"
   ]
  },
  {
   "attachments": {},
   "cell_type": "markdown",
   "metadata": {},
   "source": [
    "Print fun name with variable"
   ]
  },
  {
   "cell_type": "code",
   "execution_count": 113,
   "metadata": {},
   "outputs": [
    {
     "name": "stdout",
     "output_type": "stream",
     "text": [
      "the variable is 15\n"
     ]
    }
   ],
   "source": [
    "fun_name ='the variable is 15'\n",
    "print(fun_name)"
   ]
  },
  {
   "attachments": {},
   "cell_type": "markdown",
   "metadata": {},
   "source": [
    "Concentate of string"
   ]
  },
  {
   "cell_type": "code",
   "execution_count": 115,
   "metadata": {},
   "outputs": [
    {
     "name": "stdout",
     "output_type": "stream",
     "text": [
      "Python is great \n"
     ]
    }
   ],
   "source": [
    "s1 ='Python '\n",
    "s2 ='is '\n",
    "s3 ='great '\n",
    "print(s1+s2+s3)"
   ]
  },
  {
   "cell_type": "code",
   "execution_count": 123,
   "metadata": {},
   "outputs": [
    {
     "name": "stdout",
     "output_type": "stream",
     "text": [
      "####################\n"
     ]
    }
   ],
   "source": [
    "str ='#'\n",
    "print((str)*20)\n"
   ]
  },
  {
   "attachments": {},
   "cell_type": "markdown",
   "metadata": {},
   "source": [
    "Print numbers from 1 to 9, each on a seperate line, followed by a dot, output should look like the following"
   ]
  },
  {
   "cell_type": "code",
   "execution_count": 129,
   "metadata": {},
   "outputs": [
    {
     "name": "stdout",
     "output_type": "stream",
     "text": [
      "1.0\n",
      "2.0\n",
      "3.0\n",
      "4.0\n",
      "5.0\n",
      "6.0\n",
      "7.0\n",
      "8.0\n"
     ]
    }
   ],
   "source": [
    "a = [1.,2.,3.,4.,5.,6.,7.,8.]\n",
    "for i in a:\n",
    "    print(i)\n",
    "\n",
    "    "
   ]
  },
  {
   "cell_type": "code",
   "execution_count": 136,
   "metadata": {},
   "outputs": [
    {
     "ename": "TypeError",
     "evalue": "bad operand type for unary +: 'str'",
     "output_type": "error",
     "traceback": [
      "\u001b[1;31m---------------------------------------------------------------------------\u001b[0m",
      "\u001b[1;31mTypeError\u001b[0m                                 Traceback (most recent call last)",
      "Cell \u001b[1;32mIn[136], line 2\u001b[0m\n\u001b[0;32m      1\u001b[0m \u001b[39mstr\u001b[39m \u001b[39m=\u001b[39m \u001b[39minput\u001b[39m(\u001b[39m'\u001b[39m\u001b[39menter the sentence\u001b[39m\u001b[39m'\u001b[39m)\n\u001b[1;32m----> 2\u001b[0m \u001b[39mprint\u001b[39m(\u001b[39m'\u001b[39m\u001b[39msentence\u001b[39m\u001b[39m'\u001b[39m,\u001b[39m+\u001b[39;49m\u001b[39mstr\u001b[39;49m)\n",
      "\u001b[1;31mTypeError\u001b[0m: bad operand type for unary +: 'str'"
     ]
    }
   ],
   "source": [
    "str = input('enter the sentence')\n",
    "\n"
   ]
  }
 ],
 "metadata": {
  "kernelspec": {
   "display_name": "base",
   "language": "python",
   "name": "python3"
  },
  "language_info": {
   "codemirror_mode": {
    "name": "ipython",
    "version": 3
   },
   "file_extension": ".py",
   "mimetype": "text/x-python",
   "name": "python",
   "nbconvert_exporter": "python",
   "pygments_lexer": "ipython3",
   "version": "3.10.8"
  },
  "orig_nbformat": 4,
  "vscode": {
   "interpreter": {
    "hash": "966450a6fc5872085a69748d0ac74143c4b152c70eb4c7d1385e91c083075025"
   }
  }
 },
 "nbformat": 4,
 "nbformat_minor": 2
}
