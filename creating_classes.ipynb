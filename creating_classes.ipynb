{
 "cells": [
  {
   "cell_type": "code",
   "execution_count": 7,
   "metadata": {},
   "outputs": [],
   "source": [
    "name =['Jhon', 'Bob', 'Moash', 'Sarah', 'Mary']"
   ]
  },
  {
   "cell_type": "code",
   "execution_count": 2,
   "metadata": {},
   "outputs": [],
   "source": [
    "students =[\n",
    "    \n",
    "    {'Name': 'Jhon','college': 'Sky high', 'Qualification': 'Bachelaors'},\n",
    "    {'Name': 'Jhon','college': 'Sky high', 'Qualification': 'Bachelaors'},\n",
    "    {'Name': 'Jhon','college': 'Sky high', 'Qualification': 'Bachelaors'},\n",
    "    {'Name': 'Jhon','college': 'Sky high', 'Qualification': 'Bachelaors'},\n",
    "]"
   ]
  },
  {
   "cell_type": "code",
   "execution_count": 20,
   "metadata": {},
   "outputs": [],
   "source": [
    "class Student:\n",
    "    def __init__(self,name,college,qualification):\n",
    "       self.name = name\n",
    "       self.college = college\n",
    "       self.qualification = qualification\n",
    "\n",
    "    def __repr__(self):\n",
    "      return f\"{self.name},{self.college},{self.qualification}\"\n"
   ]
  },
  {
   "cell_type": "code",
   "execution_count": 21,
   "metadata": {},
   "outputs": [],
   "source": [
    "stdOjs =[\n",
    "    Student('Rohan','Sky High', 'Bachelors'),\n",
    "    Student('Rahul','Sky High', 'Bachelors'),\n",
    "    Student('Raj','Sky High', 'Bachelors'),\n",
    "    Student('Ravi','Sky High', 'Bachelors'),\n",
    "]"
   ]
  },
  {
   "cell_type": "code",
   "execution_count": 31,
   "metadata": {},
   "outputs": [
    {
     "data": {
      "text/plain": [
       "[Rohan,Sky High,Bachelors,\n",
       " Rahul,Sky High,Bachelors,\n",
       " Raj,Sky High,Bachelors,\n",
       " Ravi,Sky High,Bachelors]"
      ]
     },
     "execution_count": 31,
     "metadata": {},
     "output_type": "execute_result"
    }
   ],
   "source": [
    "stdOjs"
   ]
  },
  {
   "cell_type": "code",
   "execution_count": 35,
   "metadata": {},
   "outputs": [],
   "source": [
    "class Triangle:\n",
    "    def __init__(self, b=0, h=0):\n",
    "        self.base = b\n",
    "        self.height = h\n",
    "\n",
    "    def area(self):\n",
    "        return self.base * self.height / 2\n",
    "        \n",
    "    def __repr__(self):\n",
    "        return f'Triangle({self.area()})'    "
   ]
  },
  {
   "cell_type": "code",
   "execution_count": 36,
   "metadata": {},
   "outputs": [
    {
     "data": {
      "text/plain": [
       "[Triangle(30.0), Triangle(25.0), Triangle(60.0), Triangle(75.0)]"
      ]
     },
     "execution_count": 36,
     "metadata": {},
     "output_type": "execute_result"
    }
   ],
   "source": [
    "data = [Triangle(12,5),Triangle(10,5),Triangle(8,15),Triangle(6,25)]\n",
    "data"
   ]
  },
  {
   "cell_type": "code",
   "execution_count": 38,
   "metadata": {},
   "outputs": [],
   "source": [
    "import os\n",
    "class Reader:\n",
    "    \"\"\"Read a file and return the content\"\"\"\n",
    "\n",
    "    def __init__(self,path):\n",
    "        if not os.path.exists(path):\n",
    "            raise Exception ('file does not exist')\n",
    "        self.path = path\n",
    "        self.content =self.read()\n",
    "\n",
    "    def read(self):\n",
    "        with open(self.path, 'r') as f:\n",
    "            return f.read()\n",
    "\n",
    "    def count_words(self):\n",
    "        return len(self.content.split())   \n",
    "\n",
    "    def count_chars(self):\n",
    "        return len(self.content) \n",
    "\n",
    "    def __str__(self):\n",
    "        return self.content                   "
   ]
  },
  {
   "cell_type": "code",
   "execution_count": 39,
   "metadata": {},
   "outputs": [],
   "source": [
    "r1 = Reader('nested.py')"
   ]
  },
  {
   "cell_type": "code",
   "execution_count": 40,
   "metadata": {},
   "outputs": [
    {
     "name": "stdout",
     "output_type": "stream",
     "text": [
      "from turtle import*\n",
      "\n",
      "speed('fastest')\n",
      "pencolor('red')\n",
      "fillcolor('yellow')\n",
      "\n",
      "for i in range(6):\n",
      "    fd(100)\n",
      "    for i in range(6):\n",
      "        fd(50)\n",
      "        begin_fill()\n",
      "        for i in range(6):\n",
      "            fd(25)\n",
      "            rt(60)\n",
      "        end_fill()\n",
      "        lt(60)   \n",
      "    rt(60)\n",
      "    \n",
      "\n",
      "hideturtle()\n",
      "mainloop()\n",
      "\n"
     ]
    }
   ],
   "source": [
    "print(r1)"
   ]
  },
  {
   "cell_type": "code",
   "execution_count": 41,
   "metadata": {},
   "outputs": [
    {
     "name": "stdout",
     "output_type": "stream",
     "text": [
      "28\n",
      "308\n"
     ]
    }
   ],
   "source": [
    "print(r1.count_words())\n",
    "print(r1.count_chars())"
   ]
  },
  {
   "attachments": {},
   "cell_type": "markdown",
   "metadata": {},
   "source": [
    "Inheritance"
   ]
  },
  {
   "cell_type": "code",
   "execution_count": 1,
   "metadata": {},
   "outputs": [],
   "source": [
    "class User:\n",
    "    def __init__(self,name,age,gender='female'):\n",
    "        self.name = name\n",
    "        self.age = age\n",
    "        self.gender = gender\n",
    "\n",
    "    def __repr__(self):\n",
    "        return self.name  \n",
    "          "
   ]
  },
  {
   "cell_type": "code",
   "execution_count": 4,
   "metadata": {},
   "outputs": [
    {
     "data": {
      "text/plain": [
       "Shahid"
      ]
     },
     "execution_count": 4,
     "metadata": {},
     "output_type": "execute_result"
    }
   ],
   "source": [
    "u1 = User('Shahid', 23, 'male')\n",
    "u1"
   ]
  },
  {
   "cell_type": "code",
   "execution_count": 5,
   "metadata": {},
   "outputs": [],
   "source": [
    "class Student(User):\n",
    "    def __init__(self, nm,  college, klass, rollno, age= 21, gdr = 'female'):\n",
    "        super() .__init__(nm, age,gdr)\n",
    "        self.college = college\n",
    "        self.klass = klass\n",
    "        self.rollno = rollno\n",
    "\n",
    "    def info(self):\n",
    "        print('Student details') \n",
    "        print('Name:',self.name) \n",
    "        print('Age:', self.age) \n",
    "        print('College:', self.college) \n",
    "        print('Class:',self.klass)\n",
    "        print('Rollno:', self.rollno)\n",
    "        print('*x*'*10)"
   ]
  },
  {
   "cell_type": "code",
   "execution_count": 6,
   "metadata": {},
   "outputs": [
    {
     "data": {
      "text/plain": [
       "Sagar"
      ]
     },
     "execution_count": 6,
     "metadata": {},
     "output_type": "execute_result"
    }
   ],
   "source": [
    "s1 = Student ('Sagar', 'DDU', 'Msc', '391200', age =25, gdr = 'male')\n",
    "s1\n"
   ]
  },
  {
   "cell_type": "code",
   "execution_count": 8,
   "metadata": {},
   "outputs": [
    {
     "name": "stdout",
     "output_type": "stream",
     "text": [
      "Student details\n",
      "Name: Sagar\n",
      "Age: 25\n",
      "College: DDU\n",
      "Class: Msc\n",
      "Rollno: 391200\n",
      "*x**x**x**x**x**x**x**x**x**x*\n"
     ]
    }
   ],
   "source": [
    "s1.info()"
   ]
  },
  {
   "cell_type": "code",
   "execution_count": 9,
   "metadata": {},
   "outputs": [],
   "source": [
    "x = [1,2,3,4,5]\n",
    "y = [10,20,30,40,50]\n"
   ]
  },
  {
   "cell_type": "code",
   "execution_count": null,
   "metadata": {},
   "outputs": [],
   "source": []
  },
  {
   "cell_type": "code",
   "execution_count": 21,
   "metadata": {},
   "outputs": [],
   "source": [
    "class MyList(list):\n",
    "    def __mul__(self,other):\n",
    "        output = []\n",
    "        for i,j in zip(self,other):\n",
    "            output.append(i*j)\n",
    "        return output\n",
    "        \n",
    "    def sum(self):\n",
    "        return sum(self) \n",
    "    def mean(self):\n",
    "        return sum((self)/len(self))  "
   ]
  },
  {
   "cell_type": "code",
   "execution_count": 22,
   "metadata": {},
   "outputs": [
    {
     "data": {
      "text/plain": [
       "[10, 40, 90, 160, 250]"
      ]
     },
     "execution_count": 22,
     "metadata": {},
     "output_type": "execute_result"
    }
   ],
   "source": [
    "x = MyList([1,2,3,4,5])\n",
    "y = MyList([10,20,30,40,50])\n",
    "x * y"
   ]
  },
  {
   "cell_type": "code",
   "execution_count": null,
   "metadata": {},
   "outputs": [],
   "source": []
  }
 ],
 "metadata": {
  "kernelspec": {
   "display_name": "base",
   "language": "python",
   "name": "python3"
  },
  "language_info": {
   "codemirror_mode": {
    "name": "ipython",
    "version": 3
   },
   "file_extension": ".py",
   "mimetype": "text/x-python",
   "name": "python",
   "nbconvert_exporter": "python",
   "pygments_lexer": "ipython3",
   "version": "3.10.8"
  },
  "orig_nbformat": 4,
  "vscode": {
   "interpreter": {
    "hash": "966450a6fc5872085a69748d0ac74143c4b152c70eb4c7d1385e91c083075025"
   }
  }
 },
 "nbformat": 4,
 "nbformat_minor": 2
}
