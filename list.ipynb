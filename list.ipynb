{
 "cells": [
  {
   "cell_type": "code",
   "execution_count": 3,
   "metadata": {},
   "outputs": [],
   "source": [
    "a = [] # empty liist\n",
    "b = [1,2,3,4,6,7]\n",
    "c = ['apple', 'banna', 'orange']\n",
    "d = [[1,2,3], [4,5,6], [7,8,9]]#list of (nested list)]\n",
    "e = ['apple', 20, False, 'mango', 50.5, True]"
   ]
  },
  {
   "cell_type": "code",
   "execution_count": 4,
   "metadata": {},
   "outputs": [
    {
     "name": "stdout",
     "output_type": "stream",
     "text": [
      "['t', 'h', 'e', ' ', 'l', 'o', 's', 't', ' ', 'm', 'e', 't', 'a', 'l']\n"
     ]
    }
   ],
   "source": [
    "word = 'the lost metal'\n",
    "chars = list(word)\n",
    "print(chars)"
   ]
  },
  {
   "cell_type": "code",
   "execution_count": 4,
   "metadata": {},
   "outputs": [
    {
     "name": "stdout",
     "output_type": "stream",
     "text": [
      "[1, 2, 3, 1, 2, 3, 1, 2, 3, 1, 2, 3, 1, 2, 3]\n"
     ]
    }
   ],
   "source": [
    "f = [1,2,3] *5#report list 5 times\n",
    "print(f) "
   ]
  },
  {
   "cell_type": "code",
   "execution_count": 1,
   "metadata": {},
   "outputs": [
    {
     "ename": "TypeError",
     "evalue": "descriptor 'append' for 'list' objects doesn't apply to a 'str' object",
     "output_type": "error",
     "traceback": [
      "\u001b[1;31m---------------------------------------------------------------------------\u001b[0m",
      "\u001b[1;31mTypeError\u001b[0m                                 Traceback (most recent call last)",
      "Cell \u001b[1;32mIn[1], line 2\u001b[0m\n\u001b[0;32m      1\u001b[0m name \u001b[39m=\u001b[39m \u001b[39minput\u001b[39m(\u001b[39m'\u001b[39m\u001b[39mwhat is your name\u001b[39m\u001b[39m'\u001b[39m)\n\u001b[1;32m----> 2\u001b[0m \u001b[39mlist\u001b[39;49m\u001b[39m.\u001b[39;49mappend(name)\n\u001b[0;32m      3\u001b[0m \u001b[39mprint\u001b[39m (name)\n",
      "\u001b[1;31mTypeError\u001b[0m: descriptor 'append' for 'list' objects doesn't apply to a 'str' object"
     ]
    }
   ],
   "source": [
    "name = input('what is your name')\n",
    "list.append(name)\n",
    "print (name)"
   ]
  },
  {
   "cell_type": "code",
   "execution_count": 48,
   "metadata": {},
   "outputs": [
    {
     "data": {
      "text/plain": [
       "16"
      ]
     },
     "execution_count": 48,
     "metadata": {},
     "output_type": "execute_result"
    }
   ],
   "source": [
    "movies = ['Phatan', 'Kick', 'Kashmir Files', 'Kuch Kuch Hota h', 'Tiger','Badshaah','Fast and Ferous', 'Action Hero','Glass Onion', 'Spiiderman',\n",
    "          'Harry Potter','RRR', 'Brokken Heart','The Dark Knight', 'Chennai Express','Avtar']\n",
    "len(movies)"
   ]
  },
  {
   "cell_type": "code",
   "execution_count": 18,
   "metadata": {},
   "outputs": [
    {
     "name": "stdout",
     "output_type": "stream",
     "text": [
      "Action Hero\n",
      "Avtar\n"
     ]
    }
   ],
   "source": [
    "print(movies[7])\n",
    "print(movies[15])"
   ]
  },
  {
   "cell_type": "code",
   "execution_count": 20,
   "metadata": {},
   "outputs": [
    {
     "name": "stdout",
     "output_type": "stream",
     "text": [
      "['Phatan', 'Kick', 'Kashmir Files', 'Kuch Kuch Hota h', 'Bahubali', 'Badshaah', 'Fast and Ferous', 'Action Hero', 'Glass Onion', 'Spiiderman', 'Harry Potter', 'RRR', 'Brokken Heart', 'The Dark Knight', 'Chennai Express', 'Avtar']\n"
     ]
    }
   ],
   "source": [
    "movies[4] = 'Bahubali'\n",
    "print(movies)"
   ]
  },
  {
   "cell_type": "code",
   "execution_count": 57,
   "metadata": {},
   "outputs": [
    {
     "name": "stdout",
     "output_type": "stream",
     "text": [
      "['Phatan', 'Kick', 'Kashmir Files', 'Kuch Kuch Hota h', 'Tiger']\n",
      "['Phatan', 'Kick', 'Kashmir Files', 'Kuch Kuch Hota h', 'Tiger', 'Badshaah', 'Fast and Ferous', 'Action Hero', 'Glass Onion', 'Spiiderman', 'Harry Potter']\n",
      "['Kuch Kuch Hota h', 'Tiger', 'Badshaah', 'Fast and Ferous', 'Action Hero', 'Glass Onion', 'Spiiderman', 'Harry Potter', 'RRR', 'Brokken Heart']\n",
      "['Avtar', 'Chennai Express', 'The Dark Knight', 'Brokken Heart', 'RRR', 'Harry Potter', 'Spiiderman', 'Glass Onion', 'Action Hero', 'Fast and Ferous', 'Badshaah', 'Tiger', 'Kuch Kuch Hota h', 'Kashmir Files', 'Kick', 'Phatan']\n",
      "['Phatan', 'Kashmir Files', 'Tiger', 'Fast and Ferous', 'Glass Onion', 'Harry Potter', 'Brokken Heart', 'Chennai Express']\n",
      "['Phatan', 'Kuch Kuch Hota h', 'Fast and Ferous', 'Spiiderman', 'Brokken Heart', 'Avtar']\n"
     ]
    }
   ],
   "source": [
    "# first five movies\n",
    "print(movies[:5])\n",
    "# last 5 movies\n",
    "print(movies[:-5])\n",
    "# all movies except first 3 and last3\n",
    "print(movies[3:-3])\n",
    "# all movies but in reverse order\n",
    "print(movies[::-1])\n",
    "# only even indexed movies\n",
    "print(movies[::2])\n",
    "# every 3rd index movies\n",
    "print(movies[::3])"
   ]
  },
  {
   "cell_type": "code",
   "execution_count": 11,
   "metadata": {},
   "outputs": [
    {
     "name": "stdout",
     "output_type": "stream",
     "text": [
      "['Banna', 'Apple', 'Papaya', 'Fruits']\n"
     ]
    }
   ],
   "source": [
    "my_list = ['Banna', 'Apple', 'Papaya']\n",
    "my_list.append('Fruits')\n",
    "print(my_list)"
   ]
  },
  {
   "cell_type": "code",
   "execution_count": null,
   "metadata": {},
   "outputs": [],
   "source": []
  },
  {
   "cell_type": "code",
   "execution_count": null,
   "metadata": {},
   "outputs": [],
   "source": [
    " "
   ]
  },
  {
   "cell_type": "code",
   "execution_count": null,
   "metadata": {},
   "outputs": [],
   "source": [
    "\n"
   ]
  }
 ],
 "metadata": {
  "kernelspec": {
   "display_name": "base",
   "language": "python",
   "name": "python3"
  },
  "language_info": {
   "codemirror_mode": {
    "name": "ipython",
    "version": 3
   },
   "file_extension": ".py",
   "mimetype": "text/x-python",
   "name": "python",
   "nbconvert_exporter": "python",
   "pygments_lexer": "ipython3",
   "version": "3.11.1"
  },
  "orig_nbformat": 4,
  "vscode": {
   "interpreter": {
    "hash": "966450a6fc5872085a69748d0ac74143c4b152c70eb4c7d1385e91c083075025"
   }
  }
 },
 "nbformat": 4,
 "nbformat_minor": 2
}
